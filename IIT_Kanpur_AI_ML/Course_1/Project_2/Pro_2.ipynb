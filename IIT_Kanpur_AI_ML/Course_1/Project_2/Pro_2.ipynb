{
 "cells": [
  {
   "cell_type": "code",
   "execution_count": null,
   "id": "14a26dab",
   "metadata": {},
   "outputs": [],
   "source": [
    "# task_manager_stub.py\n",
    "\n",
    "import hashlib  # What is this used for in authentication?\n",
    "\n",
    "# === 1. USER REGISTRATION ===\n",
    "def register():\n",
    "    username = input(\"Enter a username: \")\n",
    "    password = input(\"Enter a password: \")\n",
    "    # TODO: Hash the password using hashlib (e.g., SHA256)\n",
    "    hashed_password = hashlib.sha256(password.encode()).hexdigest()\n",
    "    print(f\"Hashed password: {hashed_password}\")        \n",
    "    # TODO: Check if the username already exists (optional challenge)\n",
    "    try:\n",
    "        with open('users.txt', 'r') as file:\n",
    "            for line in file:\n",
    "                if line.startswith(username):\n",
    "                    print(\"Username already exists. Please choose another.\")\n",
    "                    return\n",
    "    except FileNotFoundError:\n",
    "        pass  # File doesn't exist, so we can create it \n",
    "    # TODO: Save the username and hashed password to 'users.txt'\n",
    "    with open('users.txt', 'a') as file:\n",
    "        file.write(f\"{username}:{hashed_password}\\n\")\n",
    "\n",
    "\n",
    "# === 1. USER LOGIN ===\n",
    "def login():\n",
    "    \"\"\"\n",
    "    Authenticate user credentials.\n",
    "    \"\"\"\n",
    "    # TODO: Ask for username and password\n",
    "    username = input(\"Enter your username: \")\n",
    "    password = input(\"Enter your password: \")\n",
    "    # TODO: Hash the password\n",
    "    hashed_password = hashlib.sha256(password.encode()).hexdigest()\n",
    "    # TODO: Read 'users.txt' line by line and validate credentials\n",
    "    try:\n",
    "        with open('users.txt', 'r') as file:\n",
    "            for line in file:\n",
    "                stored_username, stored_hashed_password = line.strip().split(':')\n",
    "                if username == stored_username and hashed_password == stored_hashed_password:\n",
    "                    print(\"Login successful!\")\n",
    "                    return True\n",
    "    except FileNotFoundError:\n",
    "        print(\"No users registered yet.\")\n",
    "    # TODO: Return True if login is successful, else False\n",
    "\n",
    "    return False\n",
    "\n",
    "\n",
    "# === 2. ADD TASK ===\n",
    "def add_task(username):\n",
    "    \"\"\"\n",
    "    Add a new task for the logged-in user.\n",
    "    \"\"\"\n",
    "    # TODO: Prompt user for task description\n",
    "    task_description = input(\"Enter task description: \")\n",
    "    # TODO: Generate a unique task ID (Hint: count lines in the file)\n",
    "    try:\n",
    "        with open(f'{username}_tasks.txt', 'r') as file:\n",
    "            task_id = sum(1 for _ in file) + 1  # Simple line count for ID\n",
    "\n",
    "    # TODO: Write task ID, description, and status \"Pending\" to user's task file\n",
    "    pass\n",
    "\n",
    "\n",
    "# === 3. VIEW TASKS ===\n",
    "def view_tasks(username):\n",
    "    \"\"\"\n",
    "    Display all tasks for the given user.\n",
    "    \"\"\"\n",
    "    # TODO: Open the user's task file\n",
    "\n",
    "    # TODO: For each line, split into task ID, description, and status\n",
    "\n",
    "    # TODO: Display the task information nicely\n",
    "    pass\n",
    "\n",
    "\n",
    "# === 4. MARK TASK AS COMPLETED ===\n",
    "def mark_task_completed(username):\n",
    "    \"\"\"\n",
    "    Mark a specific task as completed.\n",
    "    \"\"\"\n",
    "    # TODO: Ask the user for a task ID to mark as completed\n",
    "\n",
    "    # TODO: Read all tasks and update the matching task's status\n",
    "\n",
    "    # TODO: Write the updated list back to the file\n",
    "    pass\n",
    "\n",
    "\n",
    "# === 5. DELETE A TASK ===\n",
    "def delete_task(username):\n",
    "    \"\"\"\n",
    "    Delete a task based on its ID.\n",
    "    \"\"\"\n",
    "    # TODO: Ask the user for a task ID to delete\n",
    "\n",
    "    # TODO: Read all tasks and exclude the one with the matching ID\n",
    "\n",
    "    # TODO: Write the remaining tasks back to the file\n",
    "    pass\n",
    "\n",
    "\n",
    "# === 6. TASK MENU ===\n",
    "def task_menu(username):\n",
    "    \"\"\"\n",
    "    Menu-driven interface for task management.\n",
    "    \"\"\"\n",
    "    while True:\n",
    "        print(\"\\n--- Task Menu ---\")\n",
    "        print(\"1. Add a Task\")\n",
    "        print(\"2. View Tasks\")\n",
    "        print(\"3. Mark a Task as Completed\")\n",
    "        print(\"4. Delete a Task\")\n",
    "        print(\"5. Logout\")\n",
    "\n",
    "        choice = input(\"Enter your choice (1–5): \")\n",
    "\n",
    "        if choice == '1':\n",
    "            add_task(username)\n",
    "        elif choice == '2':\n",
    "            view_tasks(username)\n",
    "        elif choice == '3':\n",
    "            mark_task_completed(username)\n",
    "        elif choice == '4':\n",
    "            delete_task(username)\n",
    "        elif choice == '5':\n",
    "            print(\"Logging out...\")\n",
    "            break\n",
    "        else:\n",
    "            print(\"Invalid choice. Please try again.\")\n",
    "\n",
    "\n",
    "# === MAIN MENU ===\n",
    "def main():\n",
    "    \"\"\"\n",
    "    Initial menu for login/registration.\n",
    "    \"\"\"\n",
    "    while True:\n",
    "        print(\"\\n=== Welcome to Task Manager ===\")\n",
    "        print(\"1. Register\")\n",
    "        print(\"2. Login\")\n",
    "        print(\"3. Exit\")\n",
    "\n",
    "        choice = input(\"Choose an option (1–3): \")\n",
    "\n",
    "        if choice == '1':\n",
    "            register()\n",
    "        elif choice == '2':\n",
    "            if login():  # TODO: Replace with actual login logic\n",
    "                username = input(\"Re-enter your username for session: \")  # Simplified session\n",
    "                task_menu(username)\n",
    "        elif choice == '3':\n",
    "            print(\"Goodbye!\")\n",
    "            break\n",
    "        else:\n",
    "            print(\"Invalid input. Please try again.\")\n",
    "\n",
    "\n",
    "# Entry point\n",
    "if __name__ == \"__main__\":\n",
    "    main()\n"
   ]
  },
  {
   "cell_type": "code",
   "execution_count": 2,
   "id": "6b435b99",
   "metadata": {},
   "outputs": [],
   "source": [
    "import hashlib\n",
    "import os"
   ]
  },
  {
   "cell_type": "code",
   "execution_count": 3,
   "id": "a1964c8c",
   "metadata": {},
   "outputs": [],
   "source": [
    "def user_exists():\n",
    "    if os.path.exists('users.txt'):\n",
    "        with open('users.txt', 'r') as file:\n",
    "            users = {}\n",
    "            for line in file: \n",
    "                user, hashed_password = line.strip().split(':')\n",
    "                users[user] = hashed_password\n",
    "        return dict(users)\n",
    "\n",
    "user = user_exists()"
   ]
  },
  {
   "cell_type": "code",
   "execution_count": 6,
   "id": "37bfeb92",
   "metadata": {},
   "outputs": [
    {
     "data": {
      "text/plain": [
       "NoneType"
      ]
     },
     "execution_count": 6,
     "metadata": {},
     "output_type": "execute_result"
    }
   ],
   "source": [
    "type(user)"
   ]
  },
  {
   "cell_type": "code",
   "execution_count": 14,
   "id": "3a3607fc",
   "metadata": {},
   "outputs": [],
   "source": [
    "users = {}\n",
    "def register_user():\n",
    "    while True: \n",
    "        username = input(\"Enter a username: \")\n",
    "        if username in users: \n",
    "            print('Username already exists, please try another one.')\n",
    "        else: \n",
    "            password = input(\"Enter a password: \")\n",
    "            if password == '' or username == '': \n",
    "                print('Password or username cannot be empty.')\n",
    "                continue\n",
    "            hashed_password = hashlib.sha256(password.encode()).hexdigest()\n",
    "            users[username] = hashed_password\n",
    "            with open('users.txt', 'a') as file: \n",
    "                file.write(f'{username}:{hashed_password}\\n')\n",
    "            break\n",
    "    return f'{username} registered successfully!'"
   ]
  },
  {
   "cell_type": "code",
   "execution_count": null,
   "id": "fb8812dd",
   "metadata": {},
   "outputs": [],
   "source": [
    "def login_user():\n",
    "    global users \n",
    "    username = input('Enter your username: ')\n",
    "    password = input('Enter your password: ')\n",
    "    if username in users: \n",
    "        hashed_password = hashlib.sha256(password.encode()).hexdigest()\n",
    "        if users[username] == hashed_password: \n",
    "            print('Login successful!')\n",
    "            return True\n",
    "        else: \n",
    "            print('Incorrect password.')\n",
    "    else: \n",
    "        return 'Username not found.'"
   ]
  },
  {
   "cell_type": "code",
   "execution_count": 35,
   "id": "886e793e",
   "metadata": {},
   "outputs": [],
   "source": [
    "def add_task(username): \n",
    "    global users\n",
    "    if username in users: \n",
    "        task = input(\"Enter a task description: \")\n",
    "        task_id = str(len(username))+str(len(task))+username[:3]\n",
    "        if task == '':\n",
    "            print('Task description cannot be empty.')\n",
    "            return\n",
    "        with open(f'{username}_tasks.txt', 'a') as file:\n",
    "            file.write(f'{task_id}:{task}:Pending\\n')\n",
    "            print(f'Task added with ID: {task_id}')\n",
    "    else:\n",
    "        print('User not found. Please register first.')\n",
    "        return\n",
    "    "
   ]
  },
  {
   "cell_type": "code",
   "execution_count": 63,
   "id": "1ed92551",
   "metadata": {},
   "outputs": [
    {
     "name": "stdout",
     "output_type": "stream",
     "text": [
      "Task added with ID: 716pra\n"
     ]
    }
   ],
   "source": [
    "add_task('pranshu')"
   ]
  },
  {
   "cell_type": "code",
   "execution_count": 25,
   "id": "7b281054",
   "metadata": {},
   "outputs": [
    {
     "data": {
      "text/plain": [
       "{'pranshu': '65e84be33532fb784c48129675f9eff3a682b27168c0ea744b2cf58ee02337c5'}"
      ]
     },
     "execution_count": 25,
     "metadata": {},
     "output_type": "execute_result"
    }
   ],
   "source": [
    "users"
   ]
  },
  {
   "cell_type": "code",
   "execution_count": 48,
   "id": "2c2d89c4",
   "metadata": {},
   "outputs": [],
   "source": [
    "def view_tasks(username): \n",
    "    global users\n",
    "    if username in users: \n",
    "        with open(f'{username}_tasks.txt', 'r') as file:\n",
    "            tasks= {}\n",
    "            for line in file: \n",
    "                task_id, task, status = line.strip().split(':')\n",
    "                tasks[task_id] = {'task': task, 'status': status}\n",
    "    return tasks"
   ]
  },
  {
   "cell_type": "code",
   "execution_count": 72,
   "id": "827d2ef1",
   "metadata": {},
   "outputs": [
    {
     "data": {
      "text/plain": [
       "{'716pra': {'task': 'This is 2nd test', 'status': 'Pending'}}"
      ]
     },
     "execution_count": 72,
     "metadata": {},
     "output_type": "execute_result"
    }
   ],
   "source": [
    "task1 =view_tasks('pranshu')\n",
    "task1"
   ]
  },
  {
   "cell_type": "code",
   "execution_count": 66,
   "id": "f5e9ad17",
   "metadata": {},
   "outputs": [],
   "source": [
    "def select_task(username): \n",
    "    global users\n",
    "    if username in users: \n",
    "        task_id = input('Enter the task ID to select: ')\n",
    "        tasks = view_tasks(username)\n",
    "        if task_id in tasks: \n",
    "            status = input('Do you want to mark this task as completed? (yes/no): ')\n",
    "            if status.lower() == 'yes': \n",
    "                tasks[task_id]['status'] = 'Completed'\n",
    "                with open(f'{username}_tasks.txt', 'w') as file:\n",
    "                    for task_id, task_info in tasks.items(): \n",
    "                        file.write(f\"{task_id}:{task_info['task']}:{task_info['status']}\\n\") \n",
    "                return 'Task marked as completed.'\n",
    "            else: \n",
    "                return 'Task not marked as completed.'           \n",
    "        else: \n",
    "            return 'Task not found.'\n",
    "    else:\n",
    "        print('User not found. Please register first.')\n",
    "        return"
   ]
  },
  {
   "cell_type": "code",
   "execution_count": null,
   "id": "6aff25df",
   "metadata": {},
   "outputs": [
    {
     "data": {
      "text/plain": [
       "'Task marked as completed.'"
      ]
     },
     "execution_count": 68,
     "metadata": {},
     "output_type": "execute_result"
    }
   ],
   "source": [
    "select_task('pranshu')"
   ]
  },
  {
   "cell_type": "code",
   "execution_count": 70,
   "id": "e9073cf2",
   "metadata": {},
   "outputs": [],
   "source": [
    "def delete_task(username): \n",
    "    global users\n",
    "    if username in users: \n",
    "        task_id = input('Enter the task ID to delete: ')\n",
    "        tasks = view_tasks(username)\n",
    "        if task_id in tasks: \n",
    "            del tasks[task_id]\n",
    "            with open(f'{username}_tasks.txt', 'w') as file:\n",
    "                for task_id, task_info in tasks.items(): \n",
    "                    file.write(f\"{task_id}:{task_info['task']}:{task_info['status']}\\n\") \n",
    "            return 'Task deleted successfully.'\n",
    "        else: \n",
    "            return 'Task not found.'\n",
    "    else:\n",
    "        print('User not found. Please register first.')\n",
    "        return"
   ]
  },
  {
   "cell_type": "code",
   "execution_count": 71,
   "id": "de1afc87",
   "metadata": {},
   "outputs": [
    {
     "data": {
      "text/plain": [
       "'Task deleted successfully.'"
      ]
     },
     "execution_count": 71,
     "metadata": {},
     "output_type": "execute_result"
    }
   ],
   "source": [
    "delete_task('pranshu')"
   ]
  },
  {
   "cell_type": "code",
   "execution_count": null,
   "id": "4e65d12c",
   "metadata": {},
   "outputs": [],
   "source": []
  }
 ],
 "metadata": {
  "kernelspec": {
   "display_name": "Python 3",
   "language": "python",
   "name": "python3"
  },
  "language_info": {
   "codemirror_mode": {
    "name": "ipython",
    "version": 3
   },
   "file_extension": ".py",
   "mimetype": "text/x-python",
   "name": "python",
   "nbconvert_exporter": "python",
   "pygments_lexer": "ipython3",
   "version": "3.12.9"
  }
 },
 "nbformat": 4,
 "nbformat_minor": 5
}
