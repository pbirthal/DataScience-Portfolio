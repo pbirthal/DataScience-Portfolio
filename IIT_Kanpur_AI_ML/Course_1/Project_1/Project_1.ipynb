{
 "cells": [
  {
   "cell_type": "code",
   "execution_count": 7,
   "id": "38abc4f9",
   "metadata": {},
   "outputs": [],
   "source": [
    "\n",
    "def add_expense(existing_list = None): \n",
    "    if existing_list is None: \n",
    "        existing_list = []\n",
    "    date= str(input('PLEASE ENTER THE DATE OF EXPENSE (YYYY-MM-DD) :'))\n",
    "    category = str(input('PLEASE ENTER THE RELATED CATEGORY :'))\n",
    "    amt= float(input('ENTER THE AMOUNT SPENT in  :'))\n",
    "    desc= str(input('ENTER THE BRIEF DESCRIPTION : '))\n",
    "    # expense_value=[date, category, amt, desc]\n",
    "    expense_dict = {'Date':date, 'Category':category,'Amount':amt,'Description':desc}\n",
    "    existing_list.append(expense_dict)\n",
    "    return existing_list"
   ]
  },
  {
   "cell_type": "code",
   "execution_count": 10,
   "id": "fa7c14dc",
   "metadata": {},
   "outputs": [
    {
     "data": {
      "text/plain": [
       "[{'Date': '2025-05-06',\n",
       "  'Category': '',\n",
       "  'Amount': 150.0,\n",
       "  'Description': 'Dinner'}]"
      ]
     },
     "execution_count": 10,
     "metadata": {},
     "output_type": "execute_result"
    }
   ],
   "source": [
    "expense= add_expense()\n",
    "expense"
   ]
  },
  {
   "cell_type": "code",
   "execution_count": 16,
   "id": "77586326",
   "metadata": {},
   "outputs": [
    {
     "data": {
      "text/plain": [
       "[{'Date': '2025-05-06',\n",
       "  'Category': '',\n",
       "  'Amount': 150.0,\n",
       "  'Description': 'Dinner'},\n",
       " {'Date': '2025-05-06',\n",
       "  'Category': 'Food',\n",
       "  'Amount': 120.0,\n",
       "  'Description': 'Lunch'}]"
      ]
     },
     "execution_count": 16,
     "metadata": {},
     "output_type": "execute_result"
    }
   ],
   "source": [
    "add_expense(expense)"
   ]
  },
  {
   "cell_type": "code",
   "execution_count": 34,
   "id": "c2eabfd6",
   "metadata": {},
   "outputs": [],
   "source": [
    "def view_expense(expense): \n",
    "    expense_dict_keys = ['Date','Category','Amount','Description']\n",
    "    expense_len = len(expense)\n",
    "    if expense_len ==0:\n",
    "        return 'No entries added in this expenses'\n",
    "    else:\n",
    "        print(f'There are {expense_len} entries in this expense list. ')\n",
    "        for i in range(expense_len): \n",
    "            if all(map(lambda x: x in expense_dict_keys, expense[i]))== True:\n",
    "                print('-~'*40)\n",
    "                print(f' ENTRY -- {i+1}')\n",
    "                print('-~'*40) \n",
    "                if '' in expense[i].values():\n",
    "                    print('-'*40)\n",
    "                    print('Expense contains Missing Value, please update the records')\n",
    "                    print('-'*40) \n",
    "            \n",
    "                else : \n",
    "                    for key, value in expense[i].items(): \n",
    "                        print(f' {key}----> {value}')\n",
    "            else: \n",
    "                print('Please update the record attributes')\n",
    "            \n",
    "                "
   ]
  },
  {
   "cell_type": "code",
   "execution_count": 35,
   "id": "b5904720",
   "metadata": {},
   "outputs": [
    {
     "name": "stdout",
     "output_type": "stream",
     "text": [
      "There are 2 entries in this expense list. \n",
      "-~-~-~-~-~-~-~-~-~-~-~-~-~-~-~-~-~-~-~-~-~-~-~-~-~-~-~-~-~-~-~-~-~-~-~-~-~-~-~-~\n",
      " ENTRY -- 1\n",
      "-~-~-~-~-~-~-~-~-~-~-~-~-~-~-~-~-~-~-~-~-~-~-~-~-~-~-~-~-~-~-~-~-~-~-~-~-~-~-~-~\n",
      "----------------------------------------\n",
      "Expense contains Missing Value, please update the records\n",
      "----------------------------------------\n",
      "-~-~-~-~-~-~-~-~-~-~-~-~-~-~-~-~-~-~-~-~-~-~-~-~-~-~-~-~-~-~-~-~-~-~-~-~-~-~-~-~\n",
      " ENTRY -- 2\n",
      "-~-~-~-~-~-~-~-~-~-~-~-~-~-~-~-~-~-~-~-~-~-~-~-~-~-~-~-~-~-~-~-~-~-~-~-~-~-~-~-~\n",
      " Date----> 2025-05-06\n",
      " Category----> Food\n",
      " Amount----> 120.0\n",
      " Description----> Lunch\n"
     ]
    }
   ],
   "source": [
    "view_expense(expense)"
   ]
  },
  {
   "cell_type": "code",
   "execution_count": 38,
   "id": "5821b37b",
   "metadata": {},
   "outputs": [
    {
     "data": {
      "text/plain": [
       "False"
      ]
     },
     "execution_count": 38,
     "metadata": {},
     "output_type": "execute_result"
    }
   ],
   "source": [
    "date = '2025-05-06'\n",
    "date.endswith('30')"
   ]
  },
  {
   "cell_type": "code",
   "execution_count": 65,
   "id": "fbdce025",
   "metadata": {},
   "outputs": [],
   "source": [
    "def set_budget(budget=None): \n",
    "    if budget==0 or budget ==None: \n",
    "        budget = float(input('Please enter the budget for this month:'))\n",
    "    return budget\n",
    "    \n",
    "\n",
    "def track_budget(budget):\n",
    "    total_spend = 0 \n",
    "    for i in expense: \n",
    "        total_spend += i['Amount']\n",
    "    print(f'Total spend this month: {total_spend}\\n')\n",
    "    if budget>total_spend:\n",
    "        print('~-'*40) \n",
    "        print(f'Amount remaining this month : {budget-total_spend}')\n",
    "    elif budget<=total_spend: \n",
    "        print('WARNNG: ---> Budget exhausted, please avoid spending <---')"
   ]
  },
  {
   "cell_type": "code",
   "execution_count": 69,
   "id": "0f3ba5d0",
   "metadata": {},
   "outputs": [],
   "source": [
    "budget = set_budget(budget=600)"
   ]
  },
  {
   "cell_type": "code",
   "execution_count": 70,
   "id": "578cdabc",
   "metadata": {},
   "outputs": [
    {
     "name": "stdout",
     "output_type": "stream",
     "text": [
      "Total spend this month: 270.0\n",
      "\n",
      "~-~-~-~-~-~-~-~-~-~-~-~-~-~-~-~-~-~-~-~-~-~-~-~-~-~-~-~-~-~-~-~-~-~-~-~-~-~-~-~-\n",
      "Amount remaining this month : 330.0\n"
     ]
    }
   ],
   "source": [
    "track_budget(budget=budget)"
   ]
  },
  {
   "cell_type": "code",
   "execution_count": 79,
   "id": "729490a5",
   "metadata": {},
   "outputs": [
    {
     "data": {
      "text/plain": [
       "[{'Date': '2025-05-06',\n",
       "  'Category': '',\n",
       "  'Amount': 150.0,\n",
       "  'Description': 'Dinner'},\n",
       " {'Date': '2025-05-06',\n",
       "  'Category': 'Food',\n",
       "  'Amount': 120.0,\n",
       "  'Description': 'Lunch'}]"
      ]
     },
     "execution_count": 79,
     "metadata": {},
     "output_type": "execute_result"
    }
   ],
   "source": [
    "expense"
   ]
  },
  {
   "cell_type": "code",
   "execution_count": 99,
   "id": "9c628fbc",
   "metadata": {},
   "outputs": [],
   "source": [
    "import csv\n",
    "expense_dict_keys = ['Date','Category','Amount','Description']\n",
    "with open('expense_1.csv','w', newline='') as f: \n",
    "    writer = csv.DictWriter(f,fieldnames=expense_dict_keys)\n",
    "    writer.writeheader()\n",
    "    writer.writerows(expense)"
   ]
  },
  {
   "cell_type": "code",
   "execution_count": 100,
   "id": "470b8df7",
   "metadata": {},
   "outputs": [],
   "source": [
    "import os"
   ]
  },
  {
   "cell_type": "code",
   "execution_count": 112,
   "id": "35f33b39",
   "metadata": {},
   "outputs": [],
   "source": [
    "def save_expense(filename,expense): \n",
    "    file_exists = os.path.isfile(filename)\n",
    "    with open(filename, 'a',newline='') as f: \n",
    "        writer = csv.DictWriter(f, fieldnames=expense_dict_keys)\n",
    "        if not file_exists:\n",
    "            writer.writeheader()\n",
    "        writer.writerows(expense)\n",
    "    return f'Expenses saved to {filename}'  \n"
   ]
  },
  {
   "cell_type": "code",
   "execution_count": 109,
   "id": "7ba54f99",
   "metadata": {},
   "outputs": [],
   "source": [
    "def load_expense(filename): \n",
    "    file_exists = os.path.isfile(filename)\n",
    "    if not file_exists: \n",
    "        return 'Expense File doesnot exist'\n",
    "    else: \n",
    "        with open(filename, 'r') as f: \n",
    "            reader = csv.DictReader(f)\n",
    "            data= list(reader)\n",
    "    return data"
   ]
  },
  {
   "cell_type": "code",
   "execution_count": 110,
   "id": "84ee85e1",
   "metadata": {},
   "outputs": [
    {
     "data": {
      "text/plain": [
       "[{'Date': '2025-05-06',\n",
       "  'Category': '',\n",
       "  'Amount': '150.0',\n",
       "  'Description': 'Dinner'},\n",
       " {'Date': '2025-05-06',\n",
       "  'Category': 'Food',\n",
       "  'Amount': '120.0',\n",
       "  'Description': 'Lunch'},\n",
       " {'Date': '2025-05-06',\n",
       "  'Category': '',\n",
       "  'Amount': '150.0',\n",
       "  'Description': 'Dinner'},\n",
       " {'Date': '2025-05-06',\n",
       "  'Category': 'Food',\n",
       "  'Amount': '120.0',\n",
       "  'Description': 'Lunch'}]"
      ]
     },
     "execution_count": 110,
     "metadata": {},
     "output_type": "execute_result"
    }
   ],
   "source": [
    "load_expense(filename='expense_1.csv')"
   ]
  },
  {
   "cell_type": "code",
   "execution_count": 111,
   "id": "3b7d1d8e",
   "metadata": {},
   "outputs": [],
   "source": [
    "import time"
   ]
  },
  {
   "cell_type": "code",
   "execution_count": null,
   "id": "b396c5a6",
   "metadata": {},
   "outputs": [],
   "source": [
    "def main():\n",
    "    \n",
    "    while True:  \n",
    "        print('~-'*40)\n",
    "        print('-------PERSONAL TRACKER HOMEPAGE-------')\n",
    "        print('~-'*40)\n",
    "        print('1. ADD EXPENSE\\n 2. VIEW EXPENSE\\n', '3. TRACK BUDGET\\n', '4. SAVE EXPENSES\\n', '5. EXIT\\n')\n",
    "        choice = int(input('Please choose the options(1,2,3,4,5): '))\n",
    "        \n",
    "        if choice == 1 : \n",
    "            print('Executing Adding Expense--->')\n",
    "            exp = add_expense()\n",
    "            print('Expense successfully added')\n",
    "        elif choice==2:\n",
    "            print('Executing View Expenses--->')\n",
    "            view_expense(expense=exp)\n",
    "        elif choice ==3: \n",
    "            print('Executing Track Budget--->')\n",
    "            bud = set_budget()\n",
    "            track_budget(bud)\n",
    "        elif choice ==4:\n",
    "            print('Executing Save Expenses--->')\n",
    "            filename = input('Please enter the filename(add .csv also): ')\n",
    "\n",
    "            save_expense(filename=filename, expense= exp)\n",
    "            print('File Saved Successfully, Loading the data now...')\n",
    "            time.sleep(2)\n",
    "            load_expense(filename=filename)\n",
    "        elif choice ==5: \n",
    "            print('Quitting !!!')\n",
    "            time.sleep(2)\n",
    "            break\n",
    "        else: \n",
    "            print('Please enter the valid choice')\n",
    "    "
   ]
  },
  {
   "cell_type": "code",
   "execution_count": 117,
   "id": "ff52714d",
   "metadata": {},
   "outputs": [
    {
     "name": "stdout",
     "output_type": "stream",
     "text": [
      "~-~-~-~-~-~-~-~-~-~-~-~-~-~-~-~-~-~-~-~-~-~-~-~-~-~-~-~-~-~-~-~-~-~-~-~-~-~-~-~-\n",
      "-------PERSONAL TRACKER HOMEPAGE-------\n",
      "~-~-~-~-~-~-~-~-~-~-~-~-~-~-~-~-~-~-~-~-~-~-~-~-~-~-~-~-~-~-~-~-~-~-~-~-~-~-~-~-\n",
      "1. ADD EXPENSE\n",
      " 2. VIEW EXPENSE\n",
      " 3. TRACK BUDGET\n",
      " 4. SAVE EXPENSES\n",
      " 5. EXIT\n",
      "\n",
      "Executing Adding Expense--->\n",
      "~-~-~-~-~-~-~-~-~-~-~-~-~-~-~-~-~-~-~-~-~-~-~-~-~-~-~-~-~-~-~-~-~-~-~-~-~-~-~-~-\n",
      "-------PERSONAL TRACKER HOMEPAGE-------\n",
      "~-~-~-~-~-~-~-~-~-~-~-~-~-~-~-~-~-~-~-~-~-~-~-~-~-~-~-~-~-~-~-~-~-~-~-~-~-~-~-~-\n",
      "1. ADD EXPENSE\n",
      " 2. VIEW EXPENSE\n",
      " 3. TRACK BUDGET\n",
      " 4. SAVE EXPENSES\n",
      " 5. EXIT\n",
      "\n",
      "Executing Track Budget--->\n",
      "Total spend this month: 270.0\n",
      "\n",
      "~-~-~-~-~-~-~-~-~-~-~-~-~-~-~-~-~-~-~-~-~-~-~-~-~-~-~-~-~-~-~-~-~-~-~-~-~-~-~-~-\n",
      "Amount remaining this month : 230.0\n",
      "~-~-~-~-~-~-~-~-~-~-~-~-~-~-~-~-~-~-~-~-~-~-~-~-~-~-~-~-~-~-~-~-~-~-~-~-~-~-~-~-\n",
      "-------PERSONAL TRACKER HOMEPAGE-------\n",
      "~-~-~-~-~-~-~-~-~-~-~-~-~-~-~-~-~-~-~-~-~-~-~-~-~-~-~-~-~-~-~-~-~-~-~-~-~-~-~-~-\n",
      "1. ADD EXPENSE\n",
      " 2. VIEW EXPENSE\n",
      " 3. TRACK BUDGET\n",
      " 4. SAVE EXPENSES\n",
      " 5. EXIT\n",
      "\n",
      "Executing View Expenses--->\n",
      "There are 1 entries in this expense list. \n",
      "-~-~-~-~-~-~-~-~-~-~-~-~-~-~-~-~-~-~-~-~-~-~-~-~-~-~-~-~-~-~-~-~-~-~-~-~-~-~-~-~\n",
      " ENTRY -- 1\n",
      "-~-~-~-~-~-~-~-~-~-~-~-~-~-~-~-~-~-~-~-~-~-~-~-~-~-~-~-~-~-~-~-~-~-~-~-~-~-~-~-~\n",
      " Date----> 2025-05-06\n",
      " Category----> Food\n",
      " Amount----> 200.0\n",
      " Description----> Burger\n",
      "~-~-~-~-~-~-~-~-~-~-~-~-~-~-~-~-~-~-~-~-~-~-~-~-~-~-~-~-~-~-~-~-~-~-~-~-~-~-~-~-\n",
      "-------PERSONAL TRACKER HOMEPAGE-------\n",
      "~-~-~-~-~-~-~-~-~-~-~-~-~-~-~-~-~-~-~-~-~-~-~-~-~-~-~-~-~-~-~-~-~-~-~-~-~-~-~-~-\n",
      "1. ADD EXPENSE\n",
      " 2. VIEW EXPENSE\n",
      " 3. TRACK BUDGET\n",
      " 4. SAVE EXPENSES\n",
      " 5. EXIT\n",
      "\n",
      "Executing View Expenses--->\n",
      "There are 1 entries in this expense list. \n",
      "-~-~-~-~-~-~-~-~-~-~-~-~-~-~-~-~-~-~-~-~-~-~-~-~-~-~-~-~-~-~-~-~-~-~-~-~-~-~-~-~\n",
      " ENTRY -- 1\n",
      "-~-~-~-~-~-~-~-~-~-~-~-~-~-~-~-~-~-~-~-~-~-~-~-~-~-~-~-~-~-~-~-~-~-~-~-~-~-~-~-~\n",
      " Date----> 2025-05-06\n",
      " Category----> Food\n",
      " Amount----> 200.0\n",
      " Description----> Burger\n",
      "~-~-~-~-~-~-~-~-~-~-~-~-~-~-~-~-~-~-~-~-~-~-~-~-~-~-~-~-~-~-~-~-~-~-~-~-~-~-~-~-\n",
      "-------PERSONAL TRACKER HOMEPAGE-------\n",
      "~-~-~-~-~-~-~-~-~-~-~-~-~-~-~-~-~-~-~-~-~-~-~-~-~-~-~-~-~-~-~-~-~-~-~-~-~-~-~-~-\n",
      "1. ADD EXPENSE\n",
      " 2. VIEW EXPENSE\n",
      " 3. TRACK BUDGET\n",
      " 4. SAVE EXPENSES\n",
      " 5. EXIT\n",
      "\n",
      "Executing Track Budget--->\n",
      "Total spend this month: 270.0\n",
      "\n",
      "WARNNG: ---> Budget exhausted, please avoid spending <---\n",
      "~-~-~-~-~-~-~-~-~-~-~-~-~-~-~-~-~-~-~-~-~-~-~-~-~-~-~-~-~-~-~-~-~-~-~-~-~-~-~-~-\n",
      "-------PERSONAL TRACKER HOMEPAGE-------\n",
      "~-~-~-~-~-~-~-~-~-~-~-~-~-~-~-~-~-~-~-~-~-~-~-~-~-~-~-~-~-~-~-~-~-~-~-~-~-~-~-~-\n",
      "1. ADD EXPENSE\n",
      " 2. VIEW EXPENSE\n",
      " 3. TRACK BUDGET\n",
      " 4. SAVE EXPENSES\n",
      " 5. EXIT\n",
      "\n",
      "Quitting !!!\n"
     ]
    }
   ],
   "source": [
    "main()\n"
   ]
  },
  {
   "cell_type": "code",
   "execution_count": 118,
   "id": "b35c1058",
   "metadata": {},
   "outputs": [],
   "source": [
    "import os \n",
    "import csv \n",
    "import time\n",
    "def add_expense(existing_list = None): \n",
    "    if existing_list is None: \n",
    "        existing_list = []\n",
    "    date= str(input('PLEASE ENTER THE DATE OF EXPENSE (YYYY-MM-DD) :'))\n",
    "    category = str(input('PLEASE ENTER THE RELATED CATEGORY :'))\n",
    "    amt= float(input('ENTER THE AMOUNT SPENT in  :'))\n",
    "    desc= str(input('ENTER THE BRIEF DESCRIPTION : '))\n",
    "    # expense_value=[date, category, amt, desc]\n",
    "    expense_dict = {'Date':date, 'Category':category,'Amount':amt,'Description':desc}\n",
    "    existing_list.append(expense_dict)\n",
    "    return existing_list\n",
    "\n",
    "def view_expense(expense): \n",
    "    global expense_dict_keys \n",
    "    expense_dict_keys= ['Date','Category','Amount','Description']\n",
    "    expense_len = len(expense)\n",
    "    if expense_len ==0:\n",
    "        return 'No entries added in this expenses'\n",
    "    else:\n",
    "        print(f'There are {expense_len} entries in this expense list. ')\n",
    "        for i in range(expense_len): \n",
    "            if all(map(lambda x: x in expense_dict_keys, expense[i]))== True:\n",
    "                print('-~'*40)\n",
    "                print(f' ENTRY -- {i+1}')\n",
    "                print('-~'*40) \n",
    "                if '' in expense[i].values():\n",
    "                    print('-'*40)\n",
    "                    print('Expense contains Missing Value, please update the records')\n",
    "                    print('-'*40) \n",
    "            \n",
    "                else : \n",
    "                    for key, value in expense[i].items(): \n",
    "                        print(f' {key}----> {value}')\n",
    "            else: \n",
    "                print('Please update the record attributes')\n",
    "\n",
    "def set_budget(budget=None): \n",
    "    if budget==0 or budget ==None: \n",
    "        budget = float(input('Please enter the budget for this month:'))\n",
    "    return budget\n",
    "    \n",
    "\n",
    "def track_budget(budget, expense):\n",
    "    total_spend = 0 \n",
    "    for i in expense: \n",
    "        total_spend += i['Amount']\n",
    "    print(f'Total spend this month: {total_spend}\\n')\n",
    "    if budget>total_spend:\n",
    "        print('~-'*40) \n",
    "        print(f'Amount remaining this month : {budget-total_spend}')\n",
    "    elif budget<=total_spend: \n",
    "        print('WARNNG: ---> Budget exhausted, please avoid spending <---')\n",
    "\n",
    "def save_expense(filename,expense): \n",
    "    file_exists = os.path.isfile(filename)\n",
    "    with open(filename, 'a',newline='') as f: \n",
    "        writer = csv.DictWriter(f, fieldnames=expense_dict_keys)\n",
    "        if not file_exists:\n",
    "            writer.writeheader()\n",
    "        writer.writerows(expense)\n",
    "    return f'Expenses saved to {filename}'  \n",
    "\n",
    "def load_expense(filename): \n",
    "    file_exists = os.path.isfile(filename)\n",
    "    if not file_exists: \n",
    "        return 'Expense File doesnot exist'\n",
    "    else: \n",
    "        with open(filename, 'r') as f: \n",
    "            reader = csv.DictReader(f)\n",
    "            data= list(reader)\n",
    "    return data\n",
    "\n",
    "def main():\n",
    "    while True:  \n",
    "        print('~-'*40)\n",
    "        print('-------PERSONAL TRACKER HOMEPAGE-------')\n",
    "        print('~-'*40)\n",
    "        print('1. ADD EXPENSE\\n 2. VIEW EXPENSE\\n', '3. TRACK BUDGET\\n', '4. SAVE EXPENSES\\n', '5. EXIT\\n')\n",
    "        choice = int(input('Please choose the options(1,2,3,4,5): '))\n",
    "        \n",
    "        if choice == 1 : \n",
    "            print('Executing Adding Expense--->')\n",
    "            exp = add_expense()\n",
    "            print('Expense successfully added')\n",
    "        elif choice==2:\n",
    "            print('Executing View Expenses--->')\n",
    "            view_expense(expense=exp)\n",
    "        elif choice ==3: \n",
    "            print('Executing Track Budget--->')\n",
    "            bud = set_budget()\n",
    "            track_budget(bud,exp)\n",
    "        elif choice ==4:\n",
    "            print('Executing Save Expenses--->')\n",
    "            filename = input('Please enter the filename(add .csv also): ')\n",
    "\n",
    "            save_expense(filename=filename, expense= exp)\n",
    "            print('File Saved Successfully, Loading the data now...')\n",
    "            time.sleep(2)\n",
    "            load_expense(filename=filename)\n",
    "        elif choice ==5: \n",
    "            print('Quitting !!!')\n",
    "            time.sleep(2)\n",
    "            break\n",
    "        else: \n",
    "            print('Please enter the valid choice')\n",
    "    \n",
    "if __name__ == \"___main___\": \n",
    "    main()"
   ]
  },
  {
   "cell_type": "code",
   "execution_count": null,
   "id": "d339be8b",
   "metadata": {},
   "outputs": [],
   "source": []
  }
 ],
 "metadata": {
  "kernelspec": {
   "display_name": "myvenv",
   "language": "python",
   "name": "python3"
  },
  "language_info": {
   "codemirror_mode": {
    "name": "ipython",
    "version": 3
   },
   "file_extension": ".py",
   "mimetype": "text/x-python",
   "name": "python",
   "nbconvert_exporter": "python",
   "pygments_lexer": "ipython3",
   "version": "3.12.9"
  }
 },
 "nbformat": 4,
 "nbformat_minor": 5
}
