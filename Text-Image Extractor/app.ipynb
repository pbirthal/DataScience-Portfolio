{
 "cells": [
  {
   "cell_type": "code",
   "execution_count": 5,
   "metadata": {},
   "outputs": [],
   "source": [
    "import pandas as pd \n",
    "import numpy as np "
   ]
  },
  {
   "cell_type": "code",
   "execution_count": 2,
   "metadata": {},
   "outputs": [],
   "source": [
    "#Create a dictionary with keys 0 -36 and values - numbers which came after it. the list is started in ascending order"
   ]
  },
  {
   "cell_type": "code",
   "execution_count": 55,
   "metadata": {},
   "outputs": [],
   "source": [
    "list_A = [25,8,34,28,26,31,32,19,6,28,1,3,29,24,15,19,36,25,14,12,29,24,35,17,13,27,25,36,19,22,22,29,12,17,0,2,2,35,5,1,28,21,6,5,28,31,16,19,19,\n",
    "        7,10,35,7,35,23,15,22,13,26,12,32,12,28,26,24,5,25,3,19,7,35,30,28,28,6,31,24,22,11,2,23,21,3,17,29,20,36,21,10,6,12,16,28,18,15,25,23,\n",
    "        18,19,7,27,16,18,22,26,35,8,6,7,15,11,5,0,11,27,20,29,1,22,0,5,24,31,8,19,7,21,27,8,34,33,25,21,36,13,29,13,21,11,20,17,5,25,13,23,19,15,\n",
    "        5,33,35,0,2,6,7,27,9,19,18,0,21,17,32,14,24,36,31,23,36,33,3,2,17,6,36,24,11,11,31,15,7,22,0,32,15,18,19,12,14,15,23,26,20,6,8,31,34,14,34,\n",
    "        27,17,3,35,9,34,6,10,19,0,25,13,24,21,21,5,30,11,4,19,2,4,3,36,15,28,30,21,13,3,11,23,13,34,34,29,16,7,24,16,15,10,15,15,3,16,28,27,17,6,3,\n",
    "        26,2,15,28,29,32,23,22,14,9,35,8,20,20,22,19,7,2,6,5,13,20,14,10,1,16,6,14,14,1,22,3,9,13,29,13,13,14,5,0,12,21,33,20,13,20,10,34,16,10,29,\n",
    "        34,5,23,11,11,8,2,10,14,24,27,31,4,29,28,18,7,23,14,36,33,10,36,22,36,32,10,35,5,18,19,17,33,15,31,0,14,9,34,33,18,34,35,34,22,15,2,33,16,2,\n",
    "        10,22,24,16,10,29,9,5,19,16,30,20,34,18,27,3,5,12,2,18,27,5,32,23,22,7,36,5,3,34,0,11,35,29,3,30,24,4,11,6,19,20,5,11,31,2,15,23,16,28,7,17,\n",
    "        7,13,20,16,25,21,28,26,26,4,4,17,22,17,26,5,9,27,13,30,23,19,16,26,30,13,5,20,4,5,3,32,36,25,8,7,23,20,5,15,27,35,14,17,27,27,11,9,12,1,7,26,\n",
    "        28,15,30,7,20,0,17,28,34,6,12,25,34,12,4,10,19,33,34,11,22,36,7,3,4,10,20,4,35,3,23,6,26,24,23,11,21,5,10,21,2,29,27,17]"
   ]
  },
  {
   "cell_type": "code",
   "execution_count": 4,
   "metadata": {},
   "outputs": [
    {
     "data": {
      "text/plain": [
       "498"
      ]
     },
     "execution_count": 4,
     "metadata": {},
     "output_type": "execute_result"
    }
   ],
   "source": [
    "len(list_A)"
   ]
  },
  {
   "cell_type": "code",
   "execution_count": 6,
   "metadata": {},
   "outputs": [],
   "source": [
    "df = pd.Series(list_A)"
   ]
  },
  {
   "cell_type": "code",
   "execution_count": 7,
   "metadata": {},
   "outputs": [
    {
     "data": {
      "text/plain": [
       "0      25\n",
       "1       8\n",
       "2      34\n",
       "3      28\n",
       "4      26\n",
       "       ..\n",
       "493    21\n",
       "494     2\n",
       "495    29\n",
       "496    27\n",
       "497    17\n",
       "Length: 498, dtype: int64"
      ]
     },
     "execution_count": 7,
     "metadata": {},
     "output_type": "execute_result"
    }
   ],
   "source": [
    "df"
   ]
  },
  {
   "cell_type": "code",
   "execution_count": 8,
   "metadata": {},
   "outputs": [
    {
     "data": {
      "text/plain": [
       "count    498.000000\n",
       "mean      17.849398\n",
       "std       10.368823\n",
       "min        0.000000\n",
       "25%        9.000000\n",
       "50%       18.000000\n",
       "75%       26.750000\n",
       "max       36.000000\n",
       "dtype: float64"
      ]
     },
     "execution_count": 8,
     "metadata": {},
     "output_type": "execute_result"
    }
   ],
   "source": [
    "df.describe()"
   ]
  },
  {
   "cell_type": "code",
   "execution_count": 13,
   "metadata": {},
   "outputs": [],
   "source": [
    "record = { key:None for key in range(0,37)}"
   ]
  },
  {
   "cell_type": "code",
   "execution_count": 15,
   "metadata": {},
   "outputs": [],
   "source": [
    "# we will add values for the keys such that values will be the subsequent numbers "
   ]
  },
  {
   "cell_type": "code",
   "execution_count": 95,
   "metadata": {},
   "outputs": [],
   "source": [
    "from collections import defaultdict\n",
    "\n",
    "def record_following_numbers(history):\n",
    "    # Dictionary to store the frequency of numbers following each number\n",
    "    following_numbers = defaultdict(lambda: defaultdict(int))\n",
    "    \n",
    "    # Iterate through the history to populate the following_numbers dictionary\n",
    "    for i in range(len(history) - 1):\n",
    "        current_number = history[i]\n",
    "        next_number = history[i + 1]\n",
    "        following_numbers[current_number][next_number] += 1\n",
    "    \n",
    "    return following_numbers\n",
    "\n",
    "def print_following_numbers(following_numbers):\n",
    "    for current_number, next_numbers in following_numbers.items():\n",
    "        print(f\"Number {current_number} is followed by:\")\n",
    "        for next_number, count in next_numbers.items():\n",
    "            print(f\"  Number {next_number}: {count} times\")\n",
    "        print()\n",
    "\n"
   ]
  },
  {
   "cell_type": "code",
   "execution_count": 123,
   "metadata": {},
   "outputs": [],
   "source": [
    "def query_following_numbers(following_numbers, number):\n",
    "    if number in following_numbers:\n",
    "        next_numbers = following_numbers[number]\n",
    "        total_followed = len(next_numbers)\n",
    "        max_followed_number = max(next_numbers, key=next_numbers.get)\n",
    "        max_followed_count = next_numbers[max_followed_number]\n",
    "        \n",
    "        sorted_next_numbers = sorted(next_numbers.items())\n",
    "        \n",
    "        print(f\"Number {number} is followed by (sorted by frequency):\")\n",
    "        for next_number, count in sorted_next_numbers:\n",
    "            print(f\"  Number {next_number}: {count} times\")\n",
    "        \n",
    "        print(f\"\\nTotal different numbers that followed {number}: {total_followed}\")\n",
    "        print(f\"Number that followed {number} the most: {max_followed_number} ({max_followed_count} times)\")\n",
    "    else:\n",
    "        print(f\"No data available for number {number}\")\n"
   ]
  },
  {
   "cell_type": "code",
   "execution_count": 19,
   "metadata": {},
   "outputs": [
    {
     "name": "stdout",
     "output_type": "stream",
     "text": [
      "Number 25 is followed by:\n",
      "  Number 8: 2 times\n",
      "  Number 14: 1 times\n",
      "  Number 36: 1 times\n",
      "  Number 3: 1 times\n",
      "  Number 23: 1 times\n",
      "  Number 21: 2 times\n",
      "  Number 13: 2 times\n",
      "  Number 34: 1 times\n",
      "\n",
      "Number 8 is followed by:\n",
      "  Number 34: 2 times\n",
      "  Number 6: 1 times\n",
      "  Number 19: 1 times\n",
      "  Number 31: 1 times\n",
      "  Number 20: 1 times\n",
      "  Number 2: 1 times\n",
      "  Number 7: 1 times\n",
      "\n",
      "Number 34 is followed by:\n",
      "  Number 28: 1 times\n",
      "  Number 33: 2 times\n",
      "  Number 14: 1 times\n",
      "  Number 27: 1 times\n",
      "  Number 6: 2 times\n",
      "  Number 34: 1 times\n",
      "  Number 29: 1 times\n",
      "  Number 16: 1 times\n",
      "  Number 5: 1 times\n",
      "  Number 35: 1 times\n",
      "  Number 22: 1 times\n",
      "  Number 18: 1 times\n",
      "  Number 0: 1 times\n",
      "  Number 12: 1 times\n",
      "  Number 11: 1 times\n",
      "\n",
      "Number 28 is followed by:\n",
      "  Number 26: 3 times\n",
      "  Number 1: 1 times\n",
      "  Number 21: 1 times\n",
      "  Number 31: 1 times\n",
      "  Number 28: 1 times\n",
      "  Number 6: 1 times\n",
      "  Number 18: 2 times\n",
      "  Number 30: 1 times\n",
      "  Number 27: 1 times\n",
      "  Number 29: 1 times\n",
      "  Number 7: 1 times\n",
      "  Number 15: 1 times\n",
      "  Number 34: 1 times\n",
      "\n",
      "Number 26 is followed by:\n",
      "  Number 31: 1 times\n",
      "  Number 12: 1 times\n",
      "  Number 24: 2 times\n",
      "  Number 35: 1 times\n",
      "  Number 20: 1 times\n",
      "  Number 2: 1 times\n",
      "  Number 26: 1 times\n",
      "  Number 4: 1 times\n",
      "  Number 5: 1 times\n",
      "  Number 30: 1 times\n",
      "  Number 28: 1 times\n",
      "\n",
      "Number 31 is followed by:\n",
      "  Number 32: 1 times\n",
      "  Number 16: 1 times\n",
      "  Number 24: 1 times\n",
      "  Number 8: 1 times\n",
      "  Number 23: 1 times\n",
      "  Number 15: 1 times\n",
      "  Number 34: 1 times\n",
      "  Number 4: 1 times\n",
      "  Number 0: 1 times\n",
      "  Number 2: 1 times\n",
      "\n",
      "Number 32 is followed by:\n",
      "  Number 19: 1 times\n",
      "  Number 12: 1 times\n",
      "  Number 14: 1 times\n",
      "  Number 15: 1 times\n",
      "  Number 23: 2 times\n",
      "  Number 10: 1 times\n",
      "  Number 36: 1 times\n",
      "\n",
      "Number 19 is followed by:\n",
      "  Number 6: 1 times\n",
      "  Number 36: 1 times\n",
      "  Number 22: 1 times\n",
      "  Number 19: 1 times\n",
      "  Number 7: 5 times\n",
      "  Number 15: 1 times\n",
      "  Number 18: 1 times\n",
      "  Number 12: 1 times\n",
      "  Number 0: 1 times\n",
      "  Number 2: 1 times\n",
      "  Number 17: 1 times\n",
      "  Number 16: 2 times\n",
      "  Number 20: 1 times\n",
      "  Number 33: 1 times\n",
      "\n",
      "Number 6 is followed by:\n",
      "  Number 28: 1 times\n",
      "  Number 5: 2 times\n",
      "  Number 31: 1 times\n",
      "  Number 12: 2 times\n",
      "  Number 7: 2 times\n",
      "  Number 36: 1 times\n",
      "  Number 8: 1 times\n",
      "  Number 10: 1 times\n",
      "  Number 3: 1 times\n",
      "  Number 14: 1 times\n",
      "  Number 19: 1 times\n",
      "  Number 26: 1 times\n",
      "\n",
      "Number 1 is followed by:\n",
      "  Number 3: 1 times\n",
      "  Number 28: 1 times\n",
      "  Number 22: 2 times\n",
      "  Number 16: 1 times\n",
      "  Number 7: 1 times\n",
      "\n",
      "Number 3 is followed by:\n",
      "  Number 29: 1 times\n",
      "  Number 19: 1 times\n",
      "  Number 17: 1 times\n",
      "  Number 2: 1 times\n",
      "  Number 35: 1 times\n",
      "  Number 36: 1 times\n",
      "  Number 11: 1 times\n",
      "  Number 16: 1 times\n",
      "  Number 26: 1 times\n",
      "  Number 9: 1 times\n",
      "  Number 5: 1 times\n",
      "  Number 34: 1 times\n",
      "  Number 30: 1 times\n",
      "  Number 32: 1 times\n",
      "  Number 4: 1 times\n",
      "  Number 23: 1 times\n",
      "\n",
      "Number 29 is followed by:\n",
      "  Number 24: 2 times\n",
      "  Number 12: 1 times\n",
      "  Number 20: 1 times\n",
      "  Number 1: 1 times\n",
      "  Number 13: 2 times\n",
      "  Number 16: 1 times\n",
      "  Number 32: 1 times\n",
      "  Number 34: 1 times\n",
      "  Number 28: 1 times\n",
      "  Number 9: 1 times\n",
      "  Number 3: 1 times\n",
      "  Number 27: 1 times\n",
      "\n",
      "Number 24 is followed by:\n",
      "  Number 15: 1 times\n",
      "  Number 35: 1 times\n",
      "  Number 5: 1 times\n",
      "  Number 22: 1 times\n",
      "  Number 31: 1 times\n",
      "  Number 36: 1 times\n",
      "  Number 11: 1 times\n",
      "  Number 21: 1 times\n",
      "  Number 16: 2 times\n",
      "  Number 27: 1 times\n",
      "  Number 4: 1 times\n",
      "  Number 23: 1 times\n",
      "\n",
      "Number 15 is followed by:\n",
      "  Number 19: 1 times\n",
      "  Number 22: 1 times\n",
      "  Number 25: 1 times\n",
      "  Number 11: 1 times\n",
      "  Number 5: 1 times\n",
      "  Number 7: 1 times\n",
      "  Number 18: 1 times\n",
      "  Number 23: 2 times\n",
      "  Number 28: 2 times\n",
      "  Number 10: 1 times\n",
      "  Number 15: 1 times\n",
      "  Number 3: 1 times\n",
      "  Number 31: 1 times\n",
      "  Number 2: 1 times\n",
      "  Number 27: 1 times\n",
      "  Number 30: 1 times\n",
      "\n",
      "Number 36 is followed by:\n",
      "  Number 25: 2 times\n",
      "  Number 19: 1 times\n",
      "  Number 21: 1 times\n",
      "  Number 13: 1 times\n",
      "  Number 31: 1 times\n",
      "  Number 33: 2 times\n",
      "  Number 24: 1 times\n",
      "  Number 15: 1 times\n",
      "  Number 22: 1 times\n",
      "  Number 32: 1 times\n",
      "  Number 5: 1 times\n",
      "  Number 7: 1 times\n",
      "\n",
      "Number 14 is followed by:\n",
      "  Number 12: 1 times\n",
      "  Number 24: 2 times\n",
      "  Number 15: 1 times\n",
      "  Number 34: 1 times\n",
      "  Number 9: 2 times\n",
      "  Number 10: 1 times\n",
      "  Number 14: 1 times\n",
      "  Number 1: 1 times\n",
      "  Number 5: 1 times\n",
      "  Number 36: 1 times\n",
      "  Number 17: 1 times\n",
      "\n",
      "Number 12 is followed by:\n",
      "  Number 29: 1 times\n",
      "  Number 17: 1 times\n",
      "  Number 32: 1 times\n",
      "  Number 28: 1 times\n",
      "  Number 16: 1 times\n",
      "  Number 14: 1 times\n",
      "  Number 21: 1 times\n",
      "  Number 2: 1 times\n",
      "  Number 1: 1 times\n",
      "  Number 25: 1 times\n",
      "  Number 4: 1 times\n",
      "\n",
      "Number 35 is followed by:\n",
      "  Number 17: 1 times\n",
      "  Number 5: 2 times\n",
      "  Number 7: 1 times\n",
      "  Number 23: 1 times\n",
      "  Number 30: 1 times\n",
      "  Number 8: 2 times\n",
      "  Number 0: 1 times\n",
      "  Number 9: 1 times\n",
      "  Number 34: 1 times\n",
      "  Number 29: 1 times\n",
      "  Number 14: 1 times\n",
      "  Number 3: 1 times\n",
      "\n",
      "Number 17 is followed by:\n",
      "  Number 13: 1 times\n",
      "  Number 0: 1 times\n",
      "  Number 29: 1 times\n",
      "  Number 5: 1 times\n",
      "  Number 32: 1 times\n",
      "  Number 6: 2 times\n",
      "  Number 3: 1 times\n",
      "  Number 33: 1 times\n",
      "  Number 7: 1 times\n",
      "  Number 22: 1 times\n",
      "  Number 26: 1 times\n",
      "  Number 27: 1 times\n",
      "  Number 28: 1 times\n",
      "\n",
      "Number 13 is followed by:\n",
      "  Number 27: 1 times\n",
      "  Number 26: 1 times\n",
      "  Number 29: 2 times\n",
      "  Number 21: 1 times\n",
      "  Number 23: 1 times\n",
      "  Number 24: 1 times\n",
      "  Number 3: 1 times\n",
      "  Number 34: 1 times\n",
      "  Number 20: 3 times\n",
      "  Number 13: 1 times\n",
      "  Number 14: 1 times\n",
      "  Number 30: 1 times\n",
      "  Number 5: 1 times\n",
      "\n",
      "Number 27 is followed by:\n",
      "  Number 25: 1 times\n",
      "  Number 16: 1 times\n",
      "  Number 20: 1 times\n",
      "  Number 8: 1 times\n",
      "  Number 9: 1 times\n",
      "  Number 17: 3 times\n",
      "  Number 31: 1 times\n",
      "  Number 3: 1 times\n",
      "  Number 5: 1 times\n",
      "  Number 13: 1 times\n",
      "  Number 35: 1 times\n",
      "  Number 27: 1 times\n",
      "  Number 11: 1 times\n",
      "\n",
      "Number 22 is followed by:\n",
      "  Number 22: 1 times\n",
      "  Number 29: 1 times\n",
      "  Number 13: 1 times\n",
      "  Number 11: 1 times\n",
      "  Number 26: 1 times\n",
      "  Number 0: 2 times\n",
      "  Number 14: 1 times\n",
      "  Number 19: 1 times\n",
      "  Number 3: 1 times\n",
      "  Number 36: 2 times\n",
      "  Number 15: 1 times\n",
      "  Number 24: 1 times\n",
      "  Number 7: 1 times\n",
      "  Number 17: 1 times\n",
      "\n",
      "Number 0 is followed by:\n",
      "  Number 2: 2 times\n",
      "  Number 11: 2 times\n",
      "  Number 5: 1 times\n",
      "  Number 21: 1 times\n",
      "  Number 32: 1 times\n",
      "  Number 25: 1 times\n",
      "  Number 12: 1 times\n",
      "  Number 14: 1 times\n",
      "  Number 17: 1 times\n",
      "\n",
      "Number 2 is followed by:\n",
      "  Number 2: 1 times\n",
      "  Number 35: 1 times\n",
      "  Number 23: 1 times\n",
      "  Number 6: 2 times\n",
      "  Number 17: 1 times\n",
      "  Number 4: 1 times\n",
      "  Number 15: 2 times\n",
      "  Number 10: 2 times\n",
      "  Number 33: 1 times\n",
      "  Number 18: 1 times\n",
      "  Number 29: 1 times\n",
      "\n",
      "Number 5 is followed by:\n",
      "  Number 1: 1 times\n",
      "  Number 28: 1 times\n",
      "  Number 25: 2 times\n",
      "  Number 0: 2 times\n",
      "  Number 24: 1 times\n",
      "  Number 33: 1 times\n",
      "  Number 30: 1 times\n",
      "  Number 13: 1 times\n",
      "  Number 23: 1 times\n",
      "  Number 18: 1 times\n",
      "  Number 19: 1 times\n",
      "  Number 12: 1 times\n",
      "  Number 32: 1 times\n",
      "  Number 3: 2 times\n",
      "  Number 11: 1 times\n",
      "  Number 9: 1 times\n",
      "  Number 20: 1 times\n",
      "  Number 15: 1 times\n",
      "  Number 10: 1 times\n",
      "\n",
      "Number 21 is followed by:\n",
      "  Number 6: 1 times\n",
      "  Number 3: 1 times\n",
      "  Number 10: 1 times\n",
      "  Number 27: 1 times\n",
      "  Number 36: 1 times\n",
      "  Number 11: 1 times\n",
      "  Number 17: 1 times\n",
      "  Number 21: 1 times\n",
      "  Number 5: 2 times\n",
      "  Number 13: 1 times\n",
      "  Number 33: 1 times\n",
      "  Number 28: 1 times\n",
      "  Number 2: 1 times\n",
      "\n",
      "Number 16 is followed by:\n",
      "  Number 19: 1 times\n",
      "  Number 28: 3 times\n",
      "  Number 18: 1 times\n",
      "  Number 7: 1 times\n",
      "  Number 15: 1 times\n",
      "  Number 6: 1 times\n",
      "  Number 10: 2 times\n",
      "  Number 2: 1 times\n",
      "  Number 30: 1 times\n",
      "  Number 25: 1 times\n",
      "  Number 26: 1 times\n",
      "\n",
      "Number 7 is followed by:\n",
      "  Number 10: 1 times\n",
      "  Number 35: 2 times\n",
      "  Number 27: 2 times\n",
      "  Number 15: 1 times\n",
      "  Number 21: 1 times\n",
      "  Number 22: 1 times\n",
      "  Number 24: 1 times\n",
      "  Number 2: 1 times\n",
      "  Number 23: 2 times\n",
      "  Number 36: 1 times\n",
      "  Number 17: 1 times\n",
      "  Number 13: 1 times\n",
      "  Number 26: 1 times\n",
      "  Number 20: 1 times\n",
      "  Number 3: 1 times\n",
      "\n",
      "Number 10 is followed by:\n",
      "  Number 35: 2 times\n",
      "  Number 6: 1 times\n",
      "  Number 19: 2 times\n",
      "  Number 15: 1 times\n",
      "  Number 1: 1 times\n",
      "  Number 34: 1 times\n",
      "  Number 29: 2 times\n",
      "  Number 14: 1 times\n",
      "  Number 36: 1 times\n",
      "  Number 22: 1 times\n",
      "  Number 20: 1 times\n",
      "  Number 21: 1 times\n",
      "\n",
      "Number 23 is followed by:\n",
      "  Number 15: 1 times\n",
      "  Number 21: 1 times\n",
      "  Number 18: 1 times\n",
      "  Number 19: 2 times\n",
      "  Number 36: 1 times\n",
      "  Number 26: 1 times\n",
      "  Number 13: 1 times\n",
      "  Number 22: 2 times\n",
      "  Number 11: 2 times\n",
      "  Number 14: 1 times\n",
      "  Number 16: 1 times\n",
      "  Number 20: 1 times\n",
      "  Number 6: 1 times\n",
      "\n",
      "Number 30 is followed by:\n",
      "  Number 28: 1 times\n",
      "  Number 11: 1 times\n",
      "  Number 21: 1 times\n",
      "  Number 20: 1 times\n",
      "  Number 24: 1 times\n",
      "  Number 23: 1 times\n",
      "  Number 13: 1 times\n",
      "  Number 7: 1 times\n",
      "\n",
      "Number 11 is followed by:\n",
      "  Number 2: 1 times\n",
      "  Number 5: 1 times\n",
      "  Number 27: 1 times\n",
      "  Number 20: 1 times\n",
      "  Number 11: 2 times\n",
      "  Number 31: 2 times\n",
      "  Number 4: 1 times\n",
      "  Number 23: 1 times\n",
      "  Number 8: 1 times\n",
      "  Number 35: 1 times\n",
      "  Number 6: 1 times\n",
      "  Number 9: 1 times\n",
      "  Number 22: 1 times\n",
      "  Number 21: 1 times\n",
      "\n",
      "Number 20 is followed by:\n",
      "  Number 36: 1 times\n",
      "  Number 29: 1 times\n",
      "  Number 17: 1 times\n",
      "  Number 6: 1 times\n",
      "  Number 20: 1 times\n",
      "  Number 22: 1 times\n",
      "  Number 14: 1 times\n",
      "  Number 13: 1 times\n",
      "  Number 10: 1 times\n",
      "  Number 34: 1 times\n",
      "  Number 5: 2 times\n",
      "  Number 16: 1 times\n",
      "  Number 4: 2 times\n",
      "  Number 0: 1 times\n",
      "\n",
      "Number 18 is followed by:\n",
      "  Number 15: 1 times\n",
      "  Number 19: 3 times\n",
      "  Number 22: 1 times\n",
      "  Number 0: 1 times\n",
      "  Number 7: 1 times\n",
      "  Number 34: 1 times\n",
      "  Number 27: 2 times\n",
      "\n",
      "Number 33 is followed by:\n",
      "  Number 25: 1 times\n",
      "  Number 35: 1 times\n",
      "  Number 3: 1 times\n",
      "  Number 20: 1 times\n",
      "  Number 10: 1 times\n",
      "  Number 15: 1 times\n",
      "  Number 18: 1 times\n",
      "  Number 16: 1 times\n",
      "  Number 34: 1 times\n",
      "\n",
      "Number 9 is followed by:\n",
      "  Number 19: 1 times\n",
      "  Number 34: 2 times\n",
      "  Number 35: 1 times\n",
      "  Number 13: 1 times\n",
      "  Number 5: 1 times\n",
      "  Number 27: 1 times\n",
      "  Number 12: 1 times\n",
      "\n",
      "Number 4 is followed by:\n",
      "  Number 19: 1 times\n",
      "  Number 3: 1 times\n",
      "  Number 29: 1 times\n",
      "  Number 11: 1 times\n",
      "  Number 4: 1 times\n",
      "  Number 17: 1 times\n",
      "  Number 5: 1 times\n",
      "  Number 10: 2 times\n",
      "  Number 35: 1 times\n",
      "\n"
     ]
    }
   ],
   "source": [
    "   \n",
    "following_numbers = record_following_numbers(list_A)\n",
    "print_following_numbers(following_numbers)"
   ]
  },
  {
   "cell_type": "code",
   "execution_count": 97,
   "metadata": {},
   "outputs": [
    {
     "name": "stdout",
     "output_type": "stream",
     "text": [
      "Number 2 is followed by:\n",
      "  Number 2: 1 times\n",
      "  Number 35: 1 times\n",
      "  Number 23: 2 times\n",
      "  Number 6: 4 times\n",
      "  Number 17: 1 times\n",
      "  Number 4: 1 times\n",
      "  Number 15: 2 times\n",
      "  Number 10: 2 times\n",
      "  Number 33: 1 times\n",
      "  Number 18: 3 times\n",
      "  Number 29: 1 times\n",
      "  Number 27: 2 times\n",
      "  Number 14: 2 times\n",
      "  Number 21: 2 times\n",
      "  Number 9: 1 times\n",
      "  Number 31: 1 times\n",
      "  Number 12: 1 times\n",
      "\n",
      "Total different numbers that followed 2: 17\n",
      "Number that followed 2 the most: 6 (4 times)\n"
     ]
    }
   ],
   "source": [
    "query_following_numbers(following_numbers, 2)"
   ]
  },
  {
   "cell_type": "code",
   "execution_count": 29,
   "metadata": {},
   "outputs": [],
   "source": [
    "list_B = [24,18,34,34,12,3,32,28,20,17,0,9,22,17,30,34,9,2,27,23,21,9,12,9,28,10,22,34,11,19,30,9,23,28,18,29,17,13,22,28,22,16,32,0,34,6,4,10,31,3,19,\n",
    "          33,20,16,23,31,11,33,35,8,14,18,6,0,3,24,6,14,24,18,27,25,1,4,14,16,22,34,31,35,33,30,29,8,30,0,35,22,8,27,4,17,15,31,14,1,29,9,13,3,18,9,21,3,33,\n",
    "          20,9,17,28,2,18,15,23,14,15,21,17,23,6,10,26,18,9,6,30,34,21,29,4,19,32,13,9,26,7,13,5,12,15,12,3,35,31,31,25,19,20,21,12,12,32,13,36,5,21,9,22,20,\n",
    "          21,12,15,20,25,33,18,12,0,29,20,8,28,32,34,28,36,18,12,0,29,20,8,28,32,34,28,36,18,30,0,34,25,5,21,2,14,11,3,29,29,16,30]"
   ]
  },
  {
   "cell_type": "code",
   "execution_count": 36,
   "metadata": {},
   "outputs": [
    {
     "name": "stdout",
     "output_type": "stream",
     "text": [
      "Number 2 is followed by:\n",
      "  Number 27: 1 times\n",
      "  Number 18: 1 times\n",
      "  Number 14: 1 times\n"
     ]
    }
   ],
   "source": [
    "following_numbers_1 = record_following_numbers(list_B)\n",
    "\n",
    "query_following_numbers(following_numbers_1,2)"
   ]
  },
  {
   "cell_type": "code",
   "execution_count": 37,
   "metadata": {},
   "outputs": [],
   "source": [
    "# European roulette wheel order\n",
    "wheel_order = [0, 32, 15, 19, 4, 21, 2, 25, 17, 34, 6, 27, 13, 36, 11, 30, 8, 23, 10, 5, 24, 16, 33, 1, 20, 14, 31, 9, 22, 18, 29, 7, 28, 12, 35, 3, 26]\n"
   ]
  },
  {
   "cell_type": "code",
   "execution_count": 92,
   "metadata": {},
   "outputs": [],
   "source": [
    "def get_wheel_neighbors(number, wheel_order):\n",
    "    if number in wheel_order:\n",
    "        index = wheel_order.index(number)\n",
    "        left_neighbor = wheel_order[(index - 1) % len(wheel_order)]\n",
    "        right_neighbor = wheel_order[(index + 1) % len(wheel_order)]\n",
    "        return left_neighbor, right_neighbor\n",
    "    else:\n",
    "        return None, None"
   ]
  },
  {
   "cell_type": "code",
   "execution_count": 39,
   "metadata": {},
   "outputs": [
    {
     "data": {
      "text/plain": [
       "(26, 32)"
      ]
     },
     "execution_count": 39,
     "metadata": {},
     "output_type": "execute_result"
    }
   ],
   "source": [
    "get_wheel_neighbors(0,wheel_order)"
   ]
  },
  {
   "cell_type": "code",
   "execution_count": 98,
   "metadata": {},
   "outputs": [],
   "source": [
    "list_C = [10,18,33,1,15,27,8,33,27,22,7,21,34,20,14,10,0,13,21,2,6,0,20,2,21,14,9,12,13,21,2,6,0,20,2,21,14,9,12,13,\n",
    "          26,35,13,13,17,30,29,31,10,33,11,31,29,23,24,18,34,34,12,3,32,28,20,17,0,9,22,17,30,34,9,2,27,23,21,9,12,9,\n",
    "          28,10,22,34,11,19,30,9,23,28,18,29,17,13,22,28,22,16,32,0,34,6,4,10,31,3,19,33,20,16,23,31,11,33,35,8,14,\n",
    "          18,6,0,3,24,6,14,24,18,27,25,1,4,14,16,22,34,31,35,33,30,29,8,30,0,35,22,8,27,4,17,15,31,14,1,29,9,13,3,\n",
    "          18,9,21,3,33,20,9,17,28,2,18,15,23,14,15,21,17,23,6,10,26,18,9,6,30,34,21,29,4,19,32,13,9,26,7,13,5,12,15,\n",
    "          12,3,35,31,31,25,19,20,21,12,12,32,13,36,5,21,9,22,20,21,12,15,20,25,33,18,12,0,29,20,8,28,32,34,28,36,18,30,\n",
    "          0,34,25,5,21,2,14,11,3,29,29,16,30,28,10,19,12,36,13,4,28,34,21,32,21,26,12,28,12,15,2,9,9,29,29,0,24,17,6,\n",
    "          15,3,5,9,23,14,32,13,24,25,23,28,27,15,6,32,2,31,21,9,10,32,6,25,4,18,12,11,5,26,35,12,6,17,33,15,35,35,23,\n",
    "          19,27,12,8,23,8,35,10,8,17,18,17,16,19,31,19,8,9,30,15,21,18,8,24,21,18,12,35,8,3,6,14,13,31,33,14,4,1,31,29,\n",
    "          17,29,13,30,23,20,28,13,4,25,19,15,7,8,17,35,27,3,32,17,22,6,9,8,5,11,31,18,19,5,29,0,18,5,6,1,26,20,28,18,3,\n",
    "          1,16,36,7,3,28,17,12,9,3,13,6,12,16,15,19,33,20,1,32,2,12,15,26,18,30,0,14,18,22,35,7,14,3,4,26,17,22,24,13,18,\n",
    "          8,34,27,15,18,31,29,30,9,4,34,11,2,23,8,26,25,13,24,22,21,34,18,11,35,6,31,24,14]"
   ]
  },
  {
   "cell_type": "code",
   "execution_count": 48,
   "metadata": {},
   "outputs": [
    {
     "data": {
      "text/plain": [
       "460"
      ]
     },
     "execution_count": 48,
     "metadata": {},
     "output_type": "execute_result"
    }
   ],
   "source": [
    "len(list_C)"
   ]
  },
  {
   "cell_type": "code",
   "execution_count": 56,
   "metadata": {},
   "outputs": [
    {
     "data": {
      "text/plain": [
       "498"
      ]
     },
     "execution_count": 56,
     "metadata": {},
     "output_type": "execute_result"
    }
   ],
   "source": [
    "len(list_A)"
   ]
  },
  {
   "cell_type": "code",
   "execution_count": 49,
   "metadata": {},
   "outputs": [
    {
     "data": {
      "text/plain": [
       "201"
      ]
     },
     "execution_count": 49,
     "metadata": {},
     "output_type": "execute_result"
    }
   ],
   "source": [
    "len(list_B)"
   ]
  },
  {
   "cell_type": "code",
   "execution_count": 57,
   "metadata": {},
   "outputs": [
    {
     "data": {
      "text/plain": [
       "[25, 8, 34, 28, 26]"
      ]
     },
     "execution_count": 57,
     "metadata": {},
     "output_type": "execute_result"
    }
   ],
   "source": [
    "list_A[0:5]"
   ]
  },
  {
   "cell_type": "code",
   "execution_count": 59,
   "metadata": {},
   "outputs": [
    {
     "name": "stdout",
     "output_type": "stream",
     "text": [
      "Number 0 is followed by:\n",
      "  Number 13: 1 times\n",
      "  Number 20: 2 times\n",
      "  Number 9: 1 times\n",
      "  Number 34: 2 times\n",
      "  Number 3: 1 times\n",
      "  Number 35: 1 times\n",
      "  Number 29: 1 times\n",
      "  Number 24: 1 times\n",
      "  Number 18: 1 times\n",
      "  Number 14: 1 times\n"
     ]
    }
   ],
   "source": [
    "following_numbers_2 =record_following_numbers(list_C)\n",
    "query_following_numbers(following_numbers_2, 0)"
   ]
  },
  {
   "cell_type": "code",
   "execution_count": 60,
   "metadata": {},
   "outputs": [
    {
     "ename": "TypeError",
     "evalue": "list expected at most 1 argument, got 3",
     "output_type": "error",
     "traceback": [
      "\u001b[1;31m---------------------------------------------------------------------------\u001b[0m",
      "\u001b[1;31mTypeError\u001b[0m                                 Traceback (most recent call last)",
      "Cell \u001b[1;32mIn[60], line 1\u001b[0m\n\u001b[1;32m----> 1\u001b[0m main_list \u001b[38;5;241m=\u001b[39m \u001b[38;5;28mlist\u001b[39m(list_A,list_B,list_C)\n",
      "\u001b[1;31mTypeError\u001b[0m: list expected at most 1 argument, got 3"
     ]
    }
   ],
   "source": []
  },
  {
   "cell_type": "code",
   "execution_count": 61,
   "metadata": {},
   "outputs": [
    {
     "name": "stdout",
     "output_type": "stream",
     "text": [
      "[25, 8, 34, 28, 26, 31, 32, 19, 6, 28, 1, 3, 29, 24, 15, 19, 36, 25, 14, 12, 29, 24, 35, 17, 13, 27, 25, 36, 19, 22, 22, 29, 12, 17, 0, 2, 2, 35, 5, 1, 28, 21, 6, 5, 28, 31, 16, 19, 19, 7, 10, 35, 7, 35, 23, 15, 22, 13, 26, 12, 32, 12, 28, 26, 24, 5, 25, 3, 19, 7, 35, 30, 28, 28, 6, 31, 24, 22, 11, 2, 23, 21, 3, 17, 29, 20, 36, 21, 10, 6, 12, 16, 28, 18, 15, 25, 23, 18, 19, 7, 27, 16, 18, 22, 26, 35, 8, 6, 7, 15, 11, 5, 0, 11, 27, 20, 29, 1, 22, 0, 5, 24, 31, 8, 19, 7, 21, 27, 8, 34, 33, 25, 21, 36, 13, 29, 13, 21, 11, 20, 17, 5, 25, 13, 23, 19, 15, 5, 33, 35, 0, 2, 6, 7, 27, 9, 19, 18, 0, 21, 17, 32, 14, 24, 36, 31, 23, 36, 33, 3, 2, 17, 6, 36, 24, 11, 11, 31, 15, 7, 22, 0, 32, 15, 18, 19, 12, 14, 15, 23, 26, 20, 6, 8, 31, 34, 14, 34, 27, 17, 3, 35, 9, 34, 6, 10, 19, 0, 25, 13, 24, 21, 21, 5, 30, 11, 4, 19, 2, 4, 3, 36, 15, 28, 30, 21, 13, 3, 11, 23, 13, 34, 34, 29, 16, 7, 24, 16, 15, 10, 15, 15, 3, 16, 28, 27, 17, 6, 3, 26, 2, 15, 28, 29, 32, 23, 22, 14, 9, 35, 8, 20, 20, 22, 19, 7, 2, 6, 5, 13, 20, 14, 10, 1, 16, 6, 14, 14, 1, 22, 3, 9, 13, 29, 13, 13, 14, 5, 0, 12, 21, 33, 20, 13, 20, 10, 34, 16, 10, 29, 34, 5, 23, 11, 11, 8, 2, 10, 14, 24, 27, 31, 4, 29, 28, 18, 7, 23, 14, 36, 33, 10, 36, 22, 36, 32, 10, 35, 5, 18, 19, 17, 33, 15, 31, 0, 14, 9, 34, 33, 18, 34, 35, 34, 22, 15, 2, 33, 16, 2, 10, 22, 24, 16, 10, 29, 9, 5, 19, 16, 30, 20, 34, 18, 27, 3, 5, 12, 2, 18, 27, 5, 32, 23, 22, 7, 36, 5, 3, 34, 0, 11, 35, 29, 3, 30, 24, 4, 11, 6, 19, 20, 5, 11, 31, 2, 15, 23, 16, 28, 7, 17, 7, 13, 20, 16, 25, 21, 28, 26, 26, 4, 4, 17, 22, 17, 26, 5, 9, 27, 13, 30, 23, 19, 16, 26, 30, 13, 5, 20, 4, 5, 3, 32, 36, 25, 8, 7, 23, 20, 5, 15, 27, 35, 14, 17, 27, 27, 11, 9, 12, 1, 7, 26, 28, 15, 30, 7, 20, 0, 17, 28, 34, 6, 12, 25, 34, 12, 4, 10, 19, 33, 34, 11, 22, 36, 7, 3, 4, 10, 20, 4, 35, 3, 23, 6, 26, 24, 23, 11, 21, 5, 10, 21, 2, 29, 27, 17, 24, 18, 34, 34, 12, 3, 32, 28, 20, 17, 0, 9, 22, 17, 30, 34, 9, 2, 27, 23, 21, 9, 12, 9, 28, 10, 22, 34, 11, 19, 30, 9, 23, 28, 18, 29, 17, 13, 22, 28, 22, 16, 32, 0, 34, 6, 4, 10, 31, 3, 19, 33, 20, 16, 23, 31, 11, 33, 35, 8, 14, 18, 6, 0, 3, 24, 6, 14, 24, 18, 27, 25, 1, 4, 14, 16, 22, 34, 31, 35, 33, 30, 29, 8, 30, 0, 35, 22, 8, 27, 4, 17, 15, 31, 14, 1, 29, 9, 13, 3, 18, 9, 21, 3, 33, 20, 9, 17, 28, 2, 18, 15, 23, 14, 15, 21, 17, 23, 6, 10, 26, 18, 9, 6, 30, 34, 21, 29, 4, 19, 32, 13, 9, 26, 7, 13, 5, 12, 15, 12, 3, 35, 31, 31, 25, 19, 20, 21, 12, 12, 32, 13, 36, 5, 21, 9, 22, 20, 21, 12, 15, 20, 25, 33, 18, 12, 0, 29, 20, 8, 28, 32, 34, 28, 36, 18, 12, 0, 29, 20, 8, 28, 32, 34, 28, 36, 18, 30, 0, 34, 25, 5, 21, 2, 14, 11, 3, 29, 29, 16, 30, 10, 18, 33, 1, 15, 27, 8, 33, 27, 22, 7, 21, 34, 20, 14, 10, 0, 13, 21, 2, 6, 0, 20, 2, 21, 14, 9, 12, 13, 21, 2, 6, 0, 20, 2, 21, 14, 9, 12, 13, 26, 35, 13, 13, 17, 30, 29, 31, 10, 33, 11, 31, 29, 23, 24, 18, 34, 34, 12, 3, 32, 28, 20, 17, 0, 9, 22, 17, 30, 34, 9, 2, 27, 23, 21, 9, 12, 9, 28, 10, 22, 34, 11, 19, 30, 9, 23, 28, 18, 29, 17, 13, 22, 28, 22, 16, 32, 0, 34, 6, 4, 10, 31, 3, 19, 33, 20, 16, 23, 31, 11, 33, 35, 8, 14, 18, 6, 0, 3, 24, 6, 14, 24, 18, 27, 25, 1, 4, 14, 16, 22, 34, 31, 35, 33, 30, 29, 8, 30, 0, 35, 22, 8, 27, 4, 17, 15, 31, 14, 1, 29, 9, 13, 3, 18, 9, 21, 3, 33, 20, 9, 17, 28, 2, 18, 15, 23, 14, 15, 21, 17, 23, 6, 10, 26, 18, 9, 6, 30, 34, 21, 29, 4, 19, 32, 13, 9, 26, 7, 13, 5, 12, 15, 12, 3, 35, 31, 31, 25, 19, 20, 21, 12, 12, 32, 13, 36, 5, 21, 9, 22, 20, 21, 12, 15, 20, 25, 33, 18, 12, 0, 29, 20, 8, 28, 32, 34, 28, 36, 18, 30, 0, 34, 25, 5, 21, 2, 14, 11, 3, 29, 29, 16, 30, 28, 10, 19, 12, 36, 13, 4, 28, 34, 21, 32, 21, 26, 12, 28, 12, 15, 2, 9, 9, 29, 29, 0, 24, 17, 6, 15, 3, 5, 9, 23, 14, 32, 13, 24, 25, 23, 28, 27, 15, 6, 32, 2, 31, 21, 9, 10, 32, 6, 25, 4, 18, 12, 11, 5, 26, 35, 12, 6, 17, 33, 15, 35, 35, 23, 19, 27, 12, 8, 23, 8, 35, 10, 8, 17, 18, 17, 16, 19, 31, 19, 8, 9, 30, 15, 21, 18, 8, 24, 21, 18, 12, 35, 8, 3, 6, 14, 13, 31, 33, 14, 4, 1, 31, 29, 17, 29, 13, 30, 23, 20, 28, 13, 4, 25, 19, 15, 7, 8, 17, 35, 27, 3, 32, 17, 22, 6, 9, 8, 5, 11, 31, 18, 19, 5, 29, 0, 18, 5, 6, 1, 26, 20, 28, 18, 3, 1, 16, 36, 7, 3, 28, 17, 12, 9, 3, 13, 6, 12, 16, 15, 19, 33, 20, 1, 32, 2, 12, 15, 26, 18, 30, 0, 14, 18, 22, 35, 7, 14, 3, 4, 26, 17, 22, 24, 13, 18, 8, 34, 27, 15, 18, 31, 29, 30, 9, 4, 34, 11, 2, 23, 8, 26, 25, 13, 24, 22, 21, 34, 18, 11, 35, 6, 31, 24, 14]\n"
     ]
    }
   ],
   "source": [
    "def join_lists(*lists):\n",
    "    result = []\n",
    "    for lst in lists:\n",
    "        result.extend(lst)\n",
    "    return result\n",
    "\n",
    "\n",
    "combined_list = join_lists(list_A, list_B, list_C)\n",
    "print(combined_list)  # Output: [1, 2, 3, 4, 5, 6, 7, 8, 9]\n"
   ]
  },
  {
   "cell_type": "code",
   "execution_count": 99,
   "metadata": {},
   "outputs": [
    {
     "data": {
      "text/plain": [
       "1159"
      ]
     },
     "execution_count": 99,
     "metadata": {},
     "output_type": "execute_result"
    }
   ],
   "source": [
    "len(combined_list)"
   ]
  },
  {
   "cell_type": "code",
   "execution_count": 100,
   "metadata": {},
   "outputs": [
    {
     "name": "stdout",
     "output_type": "stream",
     "text": [
      "Number 9 is followed by:\n",
      "  Number 19: 1 times\n",
      "  Number 34: 2 times\n",
      "  Number 35: 1 times\n",
      "  Number 13: 3 times\n",
      "  Number 5: 1 times\n",
      "  Number 27: 1 times\n",
      "  Number 12: 5 times\n",
      "  Number 22: 4 times\n",
      "  Number 2: 2 times\n",
      "  Number 28: 2 times\n",
      "  Number 23: 3 times\n",
      "  Number 21: 2 times\n",
      "  Number 17: 2 times\n",
      "  Number 6: 2 times\n",
      "  Number 26: 2 times\n",
      "  Number 9: 1 times\n",
      "  Number 29: 1 times\n",
      "  Number 10: 1 times\n",
      "  Number 30: 1 times\n",
      "  Number 8: 1 times\n",
      "  Number 3: 1 times\n",
      "  Number 4: 1 times\n",
      "\n",
      "Total different numbers that followed 9: 22\n",
      "Number that followed 9 the most: 12 (5 times)\n"
     ]
    }
   ],
   "source": [
    "main1 = record_following_numbers(combined_list)\n",
    "query_following_numbers(main1, 9)"
   ]
  },
  {
   "cell_type": "code",
   "execution_count": 91,
   "metadata": {},
   "outputs": [],
   "source": []
  },
  {
   "cell_type": "code",
   "execution_count": 184,
   "metadata": {},
   "outputs": [
    {
     "name": "stdout",
     "output_type": "stream",
     "text": [
      "Number 27 is followed by (sorted by frequency):\n",
      "  Number 3: 2 times\n",
      "  Number 4: 2 times\n",
      "  Number 5: 1 times\n",
      "  Number 8: 2 times\n",
      "  Number 9: 1 times\n",
      "  Number 11: 1 times\n",
      "  Number 12: 1 times\n",
      "  Number 13: 1 times\n",
      "  Number 15: 2 times\n",
      "  Number 16: 1 times\n",
      "  Number 17: 3 times\n",
      "  Number 20: 1 times\n",
      "  Number 22: 1 times\n",
      "  Number 23: 2 times\n",
      "  Number 25: 3 times\n",
      "  Number 27: 1 times\n",
      "  Number 31: 1 times\n",
      "  Number 35: 1 times\n",
      "\n",
      "Total different numbers that followed 27: 18\n",
      "Number that followed 27 the most: 25 (3 times)\n"
     ]
    }
   ],
   "source": [
    "query_following_numbers(main1,27)"
   ]
  },
  {
   "cell_type": "code",
   "execution_count": null,
   "metadata": {},
   "outputs": [],
   "source": []
  }
 ],
 "metadata": {
  "kernelspec": {
   "display_name": "base",
   "language": "python",
   "name": "python3"
  },
  "language_info": {
   "codemirror_mode": {
    "name": "ipython",
    "version": 3
   },
   "file_extension": ".py",
   "mimetype": "text/x-python",
   "name": "python",
   "nbconvert_exporter": "python",
   "pygments_lexer": "ipython3",
   "version": "3.11.7"
  }
 },
 "nbformat": 4,
 "nbformat_minor": 2
}
